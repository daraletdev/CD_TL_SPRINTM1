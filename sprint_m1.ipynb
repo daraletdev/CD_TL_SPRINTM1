{
  "nbformat": 4,
  "nbformat_minor": 0,
  "metadata": {
    "colab": {
      "provenance": [],
      "authorship_tag": "ABX9TyPsrneBYRVVzZSEcBWuvIry",
      "include_colab_link": true
    },
    "kernelspec": {
      "name": "python3",
      "display_name": "Python 3"
    },
    "language_info": {
      "name": "python"
    }
  },
  "cells": [
    {
      "cell_type": "markdown",
      "metadata": {
        "id": "view-in-github",
        "colab_type": "text"
      },
      "source": [
        "<a href=\"https://colab.research.google.com/github/daraletdev/CD_TL_SPRINTM1/blob/main/sprint_m1.ipynb\" target=\"_parent\"><img src=\"https://colab.research.google.com/assets/colab-badge.svg\" alt=\"Open In Colab\"/></a>"
      ]
    },
    {
      "cell_type": "markdown",
      "source": [
        "1. Diseñe e implemente una clase Producto con los siguientes atributos: id, nombre, descripción, cantidad y precio. La clase debe incluir métodos para obtener y modificar la información de los productos."
      ],
      "metadata": {
        "id": "VUUovdxvsYPW"
      }
    },
    {
      "cell_type": "code",
      "execution_count": 10,
      "metadata": {
        "id": "Nmj_Tt-4qL9X"
      },
      "outputs": [],
      "source": [
        "class Producto():\n",
        "    def __init__(self, id, nombre, descripcion, cantidad, precio):\n",
        "      self.id = id\n",
        "      self.nombre = nombre\n",
        "      self.descripcion = descripcion\n",
        "      self.cantidad = cantidad\n",
        "      self.precio = precio"
      ]
    },
    {
      "cell_type": "markdown",
      "source": [
        "2. Diseñe e implemente una clase Inventario que utilice una estructura de datos (por ejemplo, un diccionario) para almacenar objetos de la clase Producto.\n",
        "<br>\n",
        "La clase Inventario debe incluir métodos para realizar las siguientes operaciones:\n",
        "- Agregar un producto al inventario\n",
        "- Eliminar un producto del inventario\n",
        "- Actualizar la información de un producto en el inventario\n",
        "- Buscar un producto en el inventario por su id\n",
        "- Listar todos los productos en el inventario, incluyendo información como la cantidad total de productos y el valor total del inventario"
      ],
      "metadata": {
        "id": "wPsmbmkLs9Pp"
      }
    },
    {
      "cell_type": "code",
      "source": [
        "class Inventario():\n",
        "  def __init__(self):\n",
        "    self.inventario = {}\n",
        "\n",
        "  # Tomamos la ID del nuevo producto, se lo asignamos a una instancia que contenga\n",
        "  # la ID del producto y la añade al objeto de inventario.\n",
        "  def agregar_producto(self, producto):\n",
        "    self.inventario[producto.id] = producto\n",
        "\n",
        "  # Buscamos por ID del producto, si el ID no se encuentra\n",
        "  # Se devuelve un error tipo KeyError indicando el mensaje.\n",
        "  # Si no, se procede a borrar la instancia con la palabra reservada DEL\n",
        "  def eliminar_producto(self, id_producto):\n",
        "    try:\n",
        "      del self.inventario[id_producto]\n",
        "    except KeyError:\n",
        "        raise KeyError(f'El producto con ID {id_producto} no existe en el inventario.')\n",
        "\n",
        "  # Buscamos por ID del producto, si el ID no se encuentra\n",
        "  # Se devuelve un error tipo KeyError indicando el mensaje.\n",
        "  # Si no, se actualiza el producto sin inconvenientes y se le asigna a la instancia correpospondiente al id.\n",
        "  def actualizar_producto(self, id_producto, nuevo_producto):\n",
        "    if id_producto in self.inventario:\n",
        "        self.inventario[id_producto] = nuevo_producto\n",
        "    else:\n",
        "        raise KeyError(f'El producto con ID {id_producto} no existe en el inventario.')\n",
        "\n",
        "  # Buscamos por ID del producto, si el ID no se encuentra\n",
        "  # Se devuelve un error tipo KeyError indicando el mensaje.\n",
        "  # De lo contrario, retornamos el producto usando self.inventario[id_producto]\n",
        "  def buscar_producto_por_id(self, id_producto):\n",
        "    try:\n",
        "        return self.inventario[id_producto]\n",
        "    except KeyError:\n",
        "        raise KeyError(f'El producto con ID {id_producto} no existe en el inventario.')\n",
        "\n",
        "  def listar_productos(self):\n",
        "    # El self.inventario.values() lo que hace es buscar por todos los valores donde la key es\n",
        "    # cantidad y precio.\n",
        "    # Entonces primero realiza la suma de los valores en producto.cantidad. (CANTIDAD_TOTAL)\n",
        "    # Luego lo realiza en productos.precio y a eso le multiplica la cantidad total de productos. (VALOR_TOTAL)\n",
        "    cantidad_total = sum(producto.cantidad for producto in self.inventario.values())\n",
        "    valor_total = sum(producto.cantidad * producto.precio for producto in self.inventario.values())\n",
        "    print(\"Cantidad total de productos:\", cantidad_total)\n",
        "    print(\"Valor total del inventario:\", valor_total)\n",
        "    print(\"Productos en el inventario:\")\n",
        "    for producto in self.inventario.values():\n",
        "        print(\"ID:\", producto.id, \"| Nombre:\", producto.nombre, \"| Descripción:\", producto.descripcion, \"| Cantidad:\", producto.cantidad, \"| Precio:\", producto.precio)\n"
      ],
      "metadata": {
        "id": "KJ9Sm_V5tHLk"
      },
      "execution_count": 26,
      "outputs": []
    },
    {
      "cell_type": "markdown",
      "source": [
        "Crear instancias del producto:\n",
        "- ID\n",
        "- Nombre\n",
        "- Descripción\n",
        "- Cantidad\n",
        "- Precio\n",
        "\n"
      ],
      "metadata": {
        "id": "TbjUyDKe8YTN"
      }
    },
    {
      "cell_type": "markdown",
      "source": [
        "Probando los métodos antes de hacer el menú"
      ],
      "metadata": {
        "id": "RDNoLPmEFkJm"
      }
    },
    {
      "cell_type": "code",
      "source": [
        "# Inicializamos la clase Inventario para poder utilizar sus métodos\n",
        "inventario = Inventario()\n",
        "\n",
        "# Creamos las intancias de producto (creamos productos)\n",
        "producto1 = Producto(1, \"Producto A\", \"Descripción del producto A\", 10, 15.0)\n",
        "producto2 = Producto(2, \"Producto B\", \"Descripción del producto B\", 20, 10.0)\n",
        "\n",
        "# CRUD = CREAR // Usamos el método y añadimos el parámetro del producto\n",
        "inventario.agregar_producto(producto1)\n",
        "inventario.agregar_producto(producto2)\n",
        "\n",
        "# CRUD = LEER\n",
        "inventario.listar_productos()\n",
        "\n",
        "# BUSCAR PRODUCTO POR ID\n",
        "print(\"\\nBuscando producto con ID 1:\")\n",
        "producto_encontrado = inventario.buscar_producto_por_id(1)\n",
        "if producto_encontrado:\n",
        "    print(\"Producto encontrado:\", producto_encontrado.nombre)\n",
        "else:\n",
        "    print(\"Producto no encontrado\")\n",
        "\n",
        "# CRUD = ACTUALIZAR\n",
        "print(\"\\nActualizando producto con ID 2...\")\n",
        "nuevo_producto = Producto(2, \"Nuevo Producto B\", \"Nueva descripción del producto B\", 30, 12.0)\n",
        "inventario.actualizar_producto(2, nuevo_producto)\n",
        "\n",
        "print(\"\\nProductos después de actualizar:\")\n",
        "inventario.listar_productos()\n",
        "\n",
        "# CRUD = ELIMINAR\n",
        "print(\"\\nEliminando producto con ID 2...\")\n",
        "inventario.eliminar_producto(2)\n",
        "inventario.listar_productos()"
      ],
      "metadata": {
        "colab": {
          "base_uri": "https://localhost:8080/"
        },
        "id": "gpvFbSNZ8XfH",
        "outputId": "624ec564-5253-4243-aa54-7a8cf0825ea6"
      },
      "execution_count": 25,
      "outputs": [
        {
          "output_type": "stream",
          "name": "stdout",
          "text": [
            "Cantidad total de productos: 30\n",
            "Valor total del inventario: 350.0\n",
            "Productos en el inventario:\n",
            "ID: 1 | Nombre: Producto A | Descripción: Descripción del producto A | Cantidad: 10 | Precio: 15.0\n",
            "ID: 2 | Nombre: Producto B | Descripción: Descripción del producto B | Cantidad: 20 | Precio: 10.0\n",
            "\n",
            "Buscando producto con ID 1:\n",
            "Producto encontrado: Producto A\n",
            "\n",
            "Actualizando producto con ID 2...\n",
            "\n",
            "Productos después de actualizar:\n",
            "Cantidad total de productos: 40\n",
            "Valor total del inventario: 510.0\n",
            "Productos en el inventario:\n",
            "ID: 1 | Nombre: Producto A | Descripción: Descripción del producto A | Cantidad: 10 | Precio: 15.0\n",
            "ID: 2 | Nombre: Nuevo Producto B | Descripción: Nueva descripción del producto B | Cantidad: 30 | Precio: 12.0\n",
            "\n",
            "Eliminando producto con ID 2...\n",
            "Cantidad total de productos: 10\n",
            "Valor total del inventario: 150.0\n",
            "Productos en el inventario:\n",
            "ID: 1 | Nombre: Producto A | Descripción: Descripción del producto A | Cantidad: 10 | Precio: 15.0\n"
          ]
        }
      ]
    },
    {
      "cell_type": "markdown",
      "source": [
        "3. Implemente un menú de usuario que permita a los usuarios interactuar con el sistema de gestión de inventario. El menú de incluir opciones para realizar las diferentes operaciones disponibles en la clase Inventario. Utilice un bucle while y estructuras de control de flujo if-elif-else para manejar las diferentes opciones del menú. (opcional)"
      ],
      "metadata": {
        "id": "8VFfNz9K_p6l"
      }
    },
    {
      "cell_type": "code",
      "source": [
        "def mostrar_menu():\n",
        "    print(\"\\n=== Menú de Inventario ===\")\n",
        "    print(\"1. Agregar producto\")\n",
        "    print(\"2. Eliminar producto\")\n",
        "    print(\"3. Actualizar producto\")\n",
        "    print(\"4. Buscar producto por ID\")\n",
        "    print(\"5. Listar todos los productos\")\n",
        "    print(\"6. Salir\")"
      ],
      "metadata": {
        "id": "KgNtZI7M_sdZ"
      },
      "execution_count": 27,
      "outputs": []
    },
    {
      "cell_type": "code",
      "source": [
        "def main():\n",
        "    \"\"\"Función principal del programa.\"\"\"\n",
        "    inventario = Inventario()\n",
        "    while True:\n",
        "        mostrar_menu()\n",
        "        opcion = input(\"Seleccione una opción: \")\n",
        "        try:\n",
        "            if opcion == '1':\n",
        "                id = int(input(\"Ingrese el ID del producto: \"))\n",
        "                nombre = input(\"Ingrese el nombre del producto: \")\n",
        "                descripcion = input(\"Ingrese la descripción del producto: \")\n",
        "                cantidad = int(input(\"Ingrese la cantidad del producto: \"))\n",
        "                precio = float(input(\"Ingrese el precio del producto: \"))\n",
        "                producto = Producto(id, nombre, descripcion, cantidad, precio)\n",
        "                inventario.agregar_producto(producto)\n",
        "                print(\"Producto agregado correctamente.\")\n",
        "            elif opcion == '2':\n",
        "                id_producto = int(input(\"Ingrese el ID del producto a eliminar: \"))\n",
        "                inventario.eliminar_producto(id_producto)\n",
        "                print(\"Producto eliminado correctamente.\")\n",
        "            elif opcion == '3':\n",
        "                id_producto = int(input(\"Ingrese el ID del producto a actualizar: \"))\n",
        "                nuevo_id = int(input(\"Ingrese el nuevo ID del producto: \"))\n",
        "                nombre = input(\"Ingrese el nuevo nombre del producto: \")\n",
        "                descripcion = input(\"Ingrese la nueva descripción del producto: \")\n",
        "                cantidad = int(input(\"Ingrese la nueva cantidad del producto: \"))\n",
        "                precio = float(input(\"Ingrese el nuevo precio del producto: \"))\n",
        "                nuevo_producto = Producto(nuevo_id, nombre, descripcion, cantidad, precio)\n",
        "                inventario.actualizar_producto(id_producto, nuevo_producto)\n",
        "                print(\"Producto actualizado correctamente.\")\n",
        "            elif opcion == '4':\n",
        "                id_producto = int(input(\"Ingrese el ID del producto a buscar: \"))\n",
        "                producto_encontrado = inventario.buscar_producto_por_id(id_producto)\n",
        "                if producto_encontrado:\n",
        "                    print(\"Producto encontrado:\")\n",
        "                    print(\"ID:\", producto_encontrado.id, \"| Nombre:\", producto_encontrado.nombre, \"| Descripción:\", producto_encontrado.descripcion, \"| Cantidad:\", producto_encontrado.cantidad, \"| Precio:\", producto_encontrado.precio)\n",
        "                else:\n",
        "                    print(\"Producto no encontrado.\")\n",
        "            elif opcion == '5':\n",
        "                inventario.listar_productos()\n",
        "            elif opcion == '6':\n",
        "                print(\"Saliendo del programa...\")\n",
        "                break\n",
        "            else:\n",
        "                print(\"Opción no válida. Por favor, seleccione una opción válida.\")\n",
        "        except ValueError:\n",
        "            print(\"Error: Entrada inválida. Por favor, ingrese valores válidos para el ID, la cantidad y el precio.\")\n",
        "        except KeyError as e:\n",
        "            print(\"Error:\", e)\n",
        "\n"
      ],
      "metadata": {
        "id": "8ZrEXq4F_29f"
      },
      "execution_count": 28,
      "outputs": []
    },
    {
      "cell_type": "code",
      "source": [
        "main()"
      ],
      "metadata": {
        "colab": {
          "base_uri": "https://localhost:8080/"
        },
        "id": "xpPnRPPUALCk",
        "outputId": "8a7e05af-5351-453a-ed93-50bbff76316c"
      },
      "execution_count": 30,
      "outputs": [
        {
          "output_type": "stream",
          "name": "stdout",
          "text": [
            "\n",
            "=== Menú de Inventario ===\n",
            "1. Agregar producto\n",
            "2. Eliminar producto\n",
            "3. Actualizar producto\n",
            "4. Buscar producto por ID\n",
            "5. Listar todos los productos\n",
            "6. Salir\n",
            "Seleccione una opción: 5\n",
            "Cantidad total de productos: 0\n",
            "Valor total del inventario: 0\n",
            "Productos en el inventario:\n",
            "\n",
            "=== Menú de Inventario ===\n",
            "1. Agregar producto\n",
            "2. Eliminar producto\n",
            "3. Actualizar producto\n",
            "4. Buscar producto por ID\n",
            "5. Listar todos los productos\n",
            "6. Salir\n",
            "Seleccione una opción: 6\n",
            "Saliendo del programa...\n"
          ]
        }
      ]
    }
  ]
}