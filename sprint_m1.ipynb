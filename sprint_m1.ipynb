{
  "nbformat": 4,
  "nbformat_minor": 0,
  "metadata": {
    "colab": {
      "provenance": [],
      "authorship_tag": "ABX9TyMHO5fdcVznmR00FzU6SeEV",
      "include_colab_link": true
    },
    "kernelspec": {
      "name": "python3",
      "display_name": "Python 3"
    },
    "language_info": {
      "name": "python"
    }
  },
  "cells": [
    {
      "cell_type": "markdown",
      "metadata": {
        "id": "view-in-github",
        "colab_type": "text"
      },
      "source": [
        "<a href=\"https://colab.research.google.com/github/daraletdev/CD_TL_SPRINTM1/blob/main/sprint_m1.ipynb\" target=\"_parent\"><img src=\"https://colab.research.google.com/assets/colab-badge.svg\" alt=\"Open In Colab\"/></a>"
      ]
    },
    {
      "cell_type": "markdown",
      "source": [
        "1. Diseñe e implemente una clase Producto con los siguientes atributos: id, nombre, descripción, cantidad y precio. La clase debe incluir métodos para obtener y modificar la información de los productos."
      ],
      "metadata": {
        "id": "VUUovdxvsYPW"
      }
    },
    {
      "cell_type": "code",
      "execution_count": null,
      "metadata": {
        "id": "Nmj_Tt-4qL9X"
      },
      "outputs": [],
      "source": [
        "class Producto():\n",
        "    def __init__(self, id, nombre, descripcion, cantidad, precio):\n",
        "    self.nombre = nombre\n",
        "    self.descripcion = descripcion\n",
        "    self.cantidad = cantidad\n",
        "    self.precio = precio"
      ]
    },
    {
      "cell_type": "markdown",
      "source": [
        "2. Diseñe e implemente una clase Inventario que utilice una estructura de datos (por ejemplo, un diccionario) para almacenar objetos de la clase Producto.\n",
        "<br>\n",
        "La clase Inventario debe incluir métodos para realizar las siguientes operaciones:\n",
        "- Agregar un producto al inventario\n",
        "- Eliminar un producto del inventario\n",
        "- Actualizar la información de un producto en el inventario\n",
        "- Buscar un producto en el inventario por su id\n",
        "- Listar todos los productos en el inventario, incluyendo información como la cantidad total de productos y el valor total del inventario"
      ],
      "metadata": {
        "id": "wPsmbmkLs9Pp"
      }
    },
    {
      "cell_type": "code",
      "source": [
        "class Inventario():\n",
        "   def __init__(self):\n",
        "        self.inventario = {}\n",
        "\n",
        "        def agregar_producto(self, producto):\n",
        "          self.inventario[producto.id] = producto\n",
        "\n",
        "        def eliminar_producto(self, id_producto):\n",
        "            if id_producto in self.inventario:\n",
        "                del self.inventario[id_producto]\n",
        "\n",
        "        def actualizar_producto(self, id_producto, nuevo_producto):\n",
        "            if id_producto in self.inventario:\n",
        "                self.inventario[id_producto] = nuevo_producto\n",
        "\n",
        "        def buscar_producto_por_id(self, id_producto):\n",
        "            if id_producto in self.inventario:\n",
        "                return self.inventario[id_producto]\n",
        "            else:\n",
        "                return None\n",
        "\n",
        "        def listar_productos(self):\n",
        "          cantidad_total = sum(producto.cantidad for producto in self.inventario.values())\n",
        "          valor_total = sum(producto.cantidad * producto.precio for producto in self.inventario.values())\n",
        "          print(\"Cantidad total de productos:\", cantidad_total)\n",
        "          print(\"Valor total del inventario:\", valor_total)\n",
        "          print(\"Productos en el inventario:\")\n",
        "          for producto in self.inventario.values():\n",
        "              print(\"ID:\", producto.id, \"| Nombre:\", producto.nombre, \"| Cantidad:\", producto.cantidad, \"| Precio:\", producto.precio)\n",
        "\n"
      ],
      "metadata": {
        "id": "KJ9Sm_V5tHLk"
      },
      "execution_count": 2,
      "outputs": []
    }
  ]
}