{
  "nbformat": 4,
  "nbformat_minor": 0,
  "metadata": {
    "colab": {
      "provenance": [],
      "authorship_tag": "ABX9TyPIOE6sAssOIdY1xvGHXo+y",
      "include_colab_link": true
    },
    "kernelspec": {
      "name": "python3",
      "display_name": "Python 3"
    },
    "language_info": {
      "name": "python"
    }
  },
  "cells": [
    {
      "cell_type": "markdown",
      "metadata": {
        "id": "view-in-github",
        "colab_type": "text"
      },
      "source": [
        "<a href=\"https://colab.research.google.com/github/daraletdev/CD_TL_SPRINTM1/blob/main/sprint_m1.ipynb\" target=\"_parent\"><img src=\"https://colab.research.google.com/assets/colab-badge.svg\" alt=\"Open In Colab\"/></a>"
      ]
    },
    {
      "cell_type": "markdown",
      "source": [
        "1. Diseñe e implemente una clase Producto con los siguientes atributos: id, nombre, descripción, cantidad y precio. La clase debe incluir métodos para obtener y modificar la información de los productos."
      ],
      "metadata": {
        "id": "VUUovdxvsYPW"
      }
    },
    {
      "cell_type": "code",
      "execution_count": 10,
      "metadata": {
        "id": "Nmj_Tt-4qL9X"
      },
      "outputs": [],
      "source": [
        "class Producto():\n",
        "    def __init__(self, id, nombre, descripcion, cantidad, precio):\n",
        "      self.id = id\n",
        "      self.nombre = nombre\n",
        "      self.descripcion = descripcion\n",
        "      self.cantidad = cantidad\n",
        "      self.precio = precio"
      ]
    },
    {
      "cell_type": "markdown",
      "source": [
        "2. Diseñe e implemente una clase Inventario que utilice una estructura de datos (por ejemplo, un diccionario) para almacenar objetos de la clase Producto.\n",
        "<br>\n",
        "La clase Inventario debe incluir métodos para realizar las siguientes operaciones:\n",
        "- Agregar un producto al inventario\n",
        "- Eliminar un producto del inventario\n",
        "- Actualizar la información de un producto en el inventario\n",
        "- Buscar un producto en el inventario por su id\n",
        "- Listar todos los productos en el inventario, incluyendo información como la cantidad total de productos y el valor total del inventario"
      ],
      "metadata": {
        "id": "wPsmbmkLs9Pp"
      }
    },
    {
      "cell_type": "code",
      "source": [
        "class Inventario():\n",
        "  def __init__(self):\n",
        "    self.inventario = {}\n",
        "\n",
        "  def agregar_producto(self, producto):\n",
        "    self.inventario[producto.id] = producto\n",
        "\n",
        "  def eliminar_producto(self, id_producto):\n",
        "    if id_producto in self.inventario:\n",
        "        del self.inventario[id_producto]\n",
        "\n",
        "  def actualizar_producto(self, id_producto, nuevo_producto):\n",
        "    if id_producto in self.inventario:\n",
        "        self.inventario[id_producto] = nuevo_producto\n",
        "        print(\"Producto actualizado correctamente.\")\n",
        "    else:\n",
        "        print(\"El producto con ID\", id_producto, \"no existe en el inventario.\")\n",
        "\n",
        "  def buscar_producto_por_id(self, id_producto):\n",
        "    if id_producto in self.inventario:\n",
        "        return self.inventario[id_producto]\n",
        "    else:\n",
        "        return None\n",
        "\n",
        "  def listar_productos(self):\n",
        "    # El self.inventario.values() lo que hace es buscar por todos los valores donde la key es\n",
        "    # cantidad y precio.\n",
        "    # Entonces primero realiza la suma de los valores en producto.cantidad. (CANTIDAD_TOTAL)\n",
        "    # Luego lo realiza en productos.precio y a eso le multiplica la cantidad total de productos. (VALOR_TOTAL)\n",
        "    cantidad_total = sum(producto.cantidad for producto in self.inventario.values())\n",
        "    valor_total = sum(producto.cantidad * producto.precio for producto in self.inventario.values())\n",
        "    print(\"Cantidad total de productos:\", cantidad_total)\n",
        "    print(\"Valor total del inventario:\", valor_total)\n",
        "    print(\"Productos en el inventario:\")\n",
        "    for producto in self.inventario.values():\n",
        "        print(\"ID:\", producto.id, \"| Nombre:\", producto.nombre, \"| Descripción:\", producto.descripcion, \"| Cantidad:\", producto.cantidad, \"| Precio:\", producto.precio)\n"
      ],
      "metadata": {
        "id": "KJ9Sm_V5tHLk"
      },
      "execution_count": 13,
      "outputs": []
    },
    {
      "cell_type": "markdown",
      "source": [
        "Crear instancias del producto:\n",
        "- ID\n",
        "- Nombre\n",
        "- Descripción\n",
        "- Cantidad\n",
        "- Precio\n",
        "\n"
      ],
      "metadata": {
        "id": "TbjUyDKe8YTN"
      }
    },
    {
      "cell_type": "code",
      "source": [
        "inventario = Inventario()\n",
        "\n",
        "producto1 = Producto(1, \"Producto A\", \"Descripción del producto A\", 10, 15.0)\n",
        "producto2 = Producto(2, \"Producto B\", \"Descripción del producto B\", 20, 10.0)\n",
        "\n",
        "# CRUD = CREAR\n",
        "inventario.agregar_producto(producto1)\n",
        "inventario.agregar_producto(producto2)\n",
        "\n",
        "# CRUD = LEER\n",
        "inventario.listar_productos()\n",
        "\n",
        "# BUSCAR PRODUCTO POR ID\n",
        "print(\"\\nBuscando producto con ID 1:\")\n",
        "producto_encontrado = inventario.buscar_producto_por_id(1)\n",
        "if producto_encontrado:\n",
        "    print(\"Producto encontrado:\", producto_encontrado.nombre)\n",
        "else:\n",
        "    print(\"Producto no encontrado\")\n",
        "\n",
        "# CRUD = ACTUALIZAR\n",
        "print(\"\\nActualizando producto con ID 2...\")\n",
        "nuevo_producto = Producto(2, \"Nuevo Producto B\", \"Nueva descripción del producto B\", 30, 12.0)\n",
        "inventario.actualizar_producto(2, nuevo_producto)\n",
        "\n",
        "print(\"\\nProductos después de actualizar:\")\n",
        "inventario.listar_productos()\n",
        "\n",
        "# CRUD = ELIMINAR\n",
        "print(\"\\nEliminando producto con ID 2...\")\n",
        "inventario.eliminar_producto(2)\n",
        "inventario.listar_productos()"
      ],
      "metadata": {
        "colab": {
          "base_uri": "https://localhost:8080/"
        },
        "id": "gpvFbSNZ8XfH",
        "outputId": "c0cc529c-5a13-4f93-c1e0-82b4ed06dd14"
      },
      "execution_count": 12,
      "outputs": [
        {
          "output_type": "stream",
          "name": "stdout",
          "text": [
            "Cantidad total de productos: 30\n",
            "Valor total del inventario: 350.0\n",
            "Productos en el inventario:\n",
            "ID: 1 | Nombre: Producto A | Descripción: Descripción del producto A | Cantidad: 10 | Precio: 15.0\n",
            "ID: 2 | Nombre: Producto B | Descripción: Descripción del producto B | Cantidad: 20 | Precio: 10.0\n",
            "\n",
            "Buscando producto con ID 1:\n",
            "Producto encontrado: Producto A\n",
            "\n",
            "Actualizando producto con ID 2...\n",
            "Producto actualizado correctamente.\n",
            "\n",
            "Productos después de actualizar:\n",
            "Cantidad total de productos: 40\n",
            "Valor total del inventario: 510.0\n",
            "Productos en el inventario:\n",
            "ID: 1 | Nombre: Producto A | Descripción: Descripción del producto A | Cantidad: 10 | Precio: 15.0\n",
            "ID: 2 | Nombre: Nuevo Producto B | Descripción: Nueva descripción del producto B | Cantidad: 30 | Precio: 12.0\n",
            "\n",
            "Eliminando producto con ID 2...\n",
            "Cantidad total de productos: 10\n",
            "Valor total del inventario: 150.0\n",
            "Productos en el inventario:\n",
            "ID: 1 | Nombre: Producto A | Descripción: Descripción del producto A | Cantidad: 10 | Precio: 15.0\n"
          ]
        }
      ]
    }
  ]
}